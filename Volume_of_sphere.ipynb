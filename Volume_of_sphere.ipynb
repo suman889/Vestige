{
 "cells": [
  {
   "cell_type": "code",
   "execution_count": 10,
   "metadata": {},
   "outputs": [
    {
     "name": "stdout",
     "output_type": "stream",
     "text": [
      "Volume of sphere : 7238.229473870883\n"
     ]
    }
   ],
   "source": [
    "#for mathematical oppration need math library\n",
    "import math\n",
    "pi= math.pi\n",
    "'''Creat a function foe calculating Volume of sphere'''\n",
    "def Volume_of_sphere(r):\n",
    "    Vol =(4/3)*pi*r*r*r\n",
    "    return Vol\n",
    "\n",
    "\n",
    "radius = (12)\n",
    "#call the function\n",
    "print('Volume of sphere :' ,Volume_of_sphere(radius))"
   ]
  },
  {
   "cell_type": "code",
   "execution_count": null,
   "metadata": {},
   "outputs": [],
   "source": []
  }
 ],
 "metadata": {
  "kernelspec": {
   "display_name": "Python 3",
   "language": "python",
   "name": "python3"
  },
  "language_info": {
   "codemirror_mode": {
    "name": "ipython",
    "version": 3
   },
   "file_extension": ".py",
   "mimetype": "text/x-python",
   "name": "python",
   "nbconvert_exporter": "python",
   "pygments_lexer": "ipython3",
   "version": "3.7.3"
  }
 },
 "nbformat": 4,
 "nbformat_minor": 2
}
