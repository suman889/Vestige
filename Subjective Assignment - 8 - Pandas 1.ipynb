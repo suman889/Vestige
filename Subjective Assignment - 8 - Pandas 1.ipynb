{
 "cells": [
  {
   "cell_type": "markdown",
   "metadata": {},
   "source": [
    "# Assignment"
   ]
  },
  {
   "cell_type": "markdown",
   "metadata": {},
   "source": [
    "Q1. Write the Python program to add, subtract, multiply and divide\n",
    "two pandas series ?\n",
    "\n",
    "    Sample Series- [2, 4, 6, 8, 10], [1, 3, 5, 7, 9]"
   ]
  },
  {
   "cell_type": "code",
   "execution_count": 1,
   "metadata": {},
   "outputs": [
    {
     "name": "stdout",
     "output_type": "stream",
     "text": [
      "Add two Series:\n",
      "0     3\n",
      "1     7\n",
      "2    11\n",
      "3    15\n",
      "4    19\n",
      "dtype: int64\n",
      "Subtract two Series:\n",
      "0    1\n",
      "1    1\n",
      "2    1\n",
      "3    1\n",
      "4    1\n",
      "dtype: int64\n",
      "Multiply two Series:\n",
      "0     2\n",
      "1    12\n",
      "2    30\n",
      "3    56\n",
      "4    90\n",
      "dtype: int64\n",
      "Divide Series1 by Series2:\n",
      "0    2.000000\n",
      "1    1.333333\n",
      "2    1.200000\n",
      "3    1.142857\n",
      "4    1.111111\n",
      "dtype: float64\n"
     ]
    }
   ],
   "source": [
    "import pandas as pd\n",
    "ds1 = pd.Series([2, 4, 6, 8, 10])\n",
    "ds2 = pd.Series([1, 3, 5, 7, 9])\n",
    "ds = ds1 + ds2\n",
    "print(\"Add two Series:\")\n",
    "print(ds)\n",
    "print(\"Subtract two Series:\")\n",
    "ds = ds1 - ds2\n",
    "print(ds)\n",
    "print(\"Multiply two Series:\")\n",
    "ds = ds1 * ds2\n",
    "print(ds)\n",
    "print(\"Divide Series1 by Series2:\")\n",
    "ds = ds1 / ds2\n",
    "print(ds)\n"
   ]
  },
  {
   "cell_type": "markdown",
   "metadata": {},
   "source": [
    "Q2. Write a Python program to convert a dictionary to the Pandas\n",
    "Series?\n",
    "    \n",
    "    Sample SeriesOriginal dictionary-\n",
    "    {'a': 100, 'b': 200, 'c': 300, 'd': 400, 'e': 800}\n",
    "    Converted series -\n",
    "    a 100\n",
    "    b 200\n",
    "    c 300\n",
    "    d 400\n",
    "    e 800\n",
    "    dtype- int64"
   ]
  },
  {
   "cell_type": "code",
   "execution_count": 2,
   "metadata": {},
   "outputs": [
    {
     "name": "stdout",
     "output_type": "stream",
     "text": [
      "Original dictionary:\n",
      "{'a': 100, 'b': 200, 'c': 300, 'd': 400, 'e': 800}\n",
      "Converted series:\n",
      "a    100\n",
      "b    200\n",
      "c    300\n",
      "d    400\n",
      "e    800\n",
      "dtype: int64\n"
     ]
    }
   ],
   "source": [
    "import pandas as pd\n",
    "d1 = {'a': 100, 'b': 200, 'c':300, 'd':400, 'e':800}\n",
    "print(\"Original dictionary:\")\n",
    "print(d1)\n",
    "new_series = pd.Series(d1)\n",
    "print(\"Converted series:\")\n",
    "print(new_series)\n"
   ]
  },
  {
   "cell_type": "markdown",
   "metadata": {},
   "source": [
    "Q3. Write a python program to change the data type of given a\n",
    "column or a Series?\n",
    "\n",
    "    Sample SeriesOriginal Data Series0 100\n",
    "    1 200\n",
    "    2 python\n",
    "    3 300.12\n",
    "    4 400\n",
    "    dtype- object\n",
    "    Change the said data type to numeric0 100.00\n",
    "    1 200.00\n",
    "    2 NaN\n",
    "    3 300.12\n",
    "    4 400.00\n",
    "    dtype- float64\n"
   ]
  },
  {
   "cell_type": "code",
   "execution_count": null,
   "metadata": {},
   "outputs": [],
   "source": []
  },
  {
   "cell_type": "markdown",
   "metadata": {},
   "source": [
    "Q4. Write the python pandas program to convert the first column of a\n",
    "DataFrame as a Series?\n",
    "\n",
    "    Sample OutputOriginal DataFramecol1 col2 col3\n",
    "    0 1 4 7\n",
    "    1 2 5 5\n",
    "    2 3 6 8\n",
    "    3 4 9 12\n",
    "    4 7 5 1\n",
    "    5 11 0 11\n",
    "    1st column as a Series0 1\n",
    "    1 2\n",
    "    2 3\n",
    "    3 4\n",
    "    4 7\n",
    "    5 11\n",
    "    Name- col1, dtype- int64\n",
    "    <class 'pandas.core.series.Series'>"
   ]
  },
  {
   "cell_type": "code",
   "execution_count": 3,
   "metadata": {},
   "outputs": [
    {
     "name": "stdout",
     "output_type": "stream",
     "text": [
      "original Data\n",
      "   col1  col2  col3\n",
      "0     1     4     7\n",
      "1     2     5     5\n",
      "2     3     6     8\n",
      "3     4     9    12\n",
      "4     7     5     1\n",
      "5    11     0    11\n",
      "\n",
      "1st column as a Series: \n",
      "0     1\n",
      "1     2\n",
      "2     3\n",
      "3     4\n",
      "4     7\n",
      "5    11\n",
      "Name: col1, dtype: int64\n",
      "<class 'pandas.core.series.Series'>\n"
     ]
    },
    {
     "name": "stderr",
     "output_type": "stream",
     "text": [
      "C:\\Users\\Suman Biswas\\Anaconda3\\lib\\site-packages\\ipykernel_launcher.py:6: FutureWarning: \n",
      ".ix is deprecated. Please use\n",
      ".loc for label based indexing or\n",
      ".iloc for positional indexing\n",
      "\n",
      "See the documentation here:\n",
      "http://pandas.pydata.org/pandas-docs/stable/user_guide/indexing.html#ix-indexer-is-deprecated\n",
      "  \n"
     ]
    }
   ],
   "source": [
    "import pandas as pd\n",
    "d={'col1':[1,2,3,4,7,11],'col2':[4,5,6,9,5,0],'col3':[7,5,8,12,1,11]}\n",
    "df=pd.DataFrame(data=d)\n",
    "print('original Data')\n",
    "print(df)\n",
    "s1 =df.ix[:,0]\n",
    "print('\\n1st column as a Series: ')\n",
    "print(s1)\n",
    "print(type(s1))"
   ]
  },
  {
   "cell_type": "markdown",
   "metadata": {},
   "source": [
    "Q5. Write a pandas program to create the mean and standard\n",
    "deviation of the data of a given Series?\n",
    "\n",
    "    Sample OutputOriginal Data Series0 1\n",
    "    1 2\n",
    "    2 3\n",
    "    3 4\n",
    "    4 5\n",
    "    5 6\n",
    "    6 7\n",
    "    7 8\n",
    "    8 9\n",
    "    9 5\n",
    "    10 3\n",
    "    dtype- int64\n",
    "    Mean of the said Data Series4.81818181818\n",
    "    Standard deviation of the said Data Series2.52262489555"
   ]
  },
  {
   "cell_type": "code",
   "execution_count": 4,
   "metadata": {},
   "outputs": [
    {
     "name": "stdout",
     "output_type": "stream",
     "text": [
      "original Data series:\n",
      "0     1\n",
      "1     2\n",
      "2     3\n",
      "3     4\n",
      "4     5\n",
      "5     6\n",
      "6     7\n",
      "7     8\n",
      "8     9\n",
      "9     6\n",
      "10    3\n",
      "dtype: int64\n",
      "mean of the said data series: \n",
      "4.909090909090909\n",
      "Standard deviation of the said Data Series: \n",
      "2.5477262590217755\n"
     ]
    }
   ],
   "source": [
    "import pandas as pd \n",
    "s= pd.Series(data= [1,2,3,4,5,6,7,8,9,6,3])\n",
    "print('original Data series:')\n",
    "print(s)\n",
    "print(\"mean of the said data series: \")\n",
    "print(s.mean())\n",
    "print('Standard deviation of the said Data Series: ')\n",
    "print(s.std())"
   ]
  },
  {
   "cell_type": "markdown",
   "metadata": {},
   "source": [
    "Q6. Write a pandas program to get powers of an array values\n",
    "element-wise?\n",
    " \n",
    "Note First array elements raised the powers from the second array.\n",
    "\n",
    "    Sample data: {'X ':[78,85,96,80,86], ' Y ':[84,94,89,83,86],'Z':[86,97,96,72,83]}\n",
    "    Expected Output:\n",
    "    X Y Z\n",
    "    0 78 84 86\n",
    "    1 85 94 97\n",
    "    2 96 89 96\n",
    "    3 80 83 72\n",
    "    4 86 86 83"
   ]
  },
  {
   "cell_type": "code",
   "execution_count": null,
   "metadata": {},
   "outputs": [],
   "source": []
  },
  {
   "cell_type": "markdown",
   "metadata": {},
   "source": [
    "Q7. Write the pandas program to get the first 3 rows of a given\n",
    "DataFrame?\n",
    "\n",
    "    Sample Python dictionary data and list labelsexam_data = {'name': ['Anastasia', 'Dima', 'Katherine', 'James', 'Emily', 'Michael',\n",
    "    'Matthew', 'Laura', 'Kevin', 'Jonas'],\n",
    "    'score': [12.5, 9, 16.5, np.nan, 9, 20, 14.5, np.nan, 8, 19],\n",
    "    'attempts'- [1, 3, 2, 3, 2, 3, 1, 1, 2, 1],\n",
    "    'qualify'- [ 'yes', 'no', 'yes' , 'no', ' no ', ' yes ', 'yes', 'no', 'no', 'yes' ] }\n",
    "    labels = ['a', 'b', 'c', 'd', 'e', 'f', 'g', 'h', 'i', 'j' ]\n",
    "    Expected OutputFirst three rows of the data frameattempts name qualify score\n",
    "    a 1 Anastasia yes 12.5\n",
    "    b 3 Dima no 9.0\n",
    "    c 2 Katherine yes 16.5"
   ]
  },
  {
   "cell_type": "code",
   "execution_count": null,
   "metadata": {},
   "outputs": [],
   "source": []
  },
  {
   "cell_type": "markdown",
   "metadata": {},
   "source": [
    "Q8: Write the pandas program to select the specified columns and\n",
    "the rows from a given data frame?\n",
    "\n",
    "    Sample Python dictionary data and list labelsSelect 'name' and 'score' columns in rows 1, 3, 5, 6 from the following data frame.\n",
    "    exam_data = {'name ': [ 'Anastasia', 'Dima', 'Katherine', 'James', 'Emily', 'Michael',\n",
    "    'Matthew', 'Laura', 'Kevin', 'Jonas'],\n",
    "    'score'- [12.5, 9, 16.5, np.nan, 9, 20, 14.5, np.nan, 8, 19],\n",
    "    'attempts'- [1, 3, 2, 3, 2, 3, 1, 1, 2, 1],\n",
    "    'qualify'- ['yes', 'no', 'yes', 'no', 'no', 'yes', 'yes', 'no', 'no', 'yes'] }\n",
    "    labels = ['a ', ' b ', ' c ', ' d ', ' e ', ' f ', ' g ', 'h', 'i', 'j']\n",
    "    Expected OutputSelect specific columns and rowsname score\n",
    "    b Dima 9.0\n",
    "    d James NaN\n",
    "    f Michael 20.0\n",
    "    g Matthew 14.5"
   ]
  },
  {
   "cell_type": "code",
   "execution_count": null,
   "metadata": {},
   "outputs": [],
   "source": []
  },
  {
   "cell_type": "markdown",
   "metadata": {},
   "source": [
    "Q9. Write the pandas program to calculate mean score for each\n",
    "different student in DataFrame?\n",
    "\n",
    "    Sample Python dictionary data and list labelsexam_data = {'name': ['Anastasia', 'Dima', 'Katherine', 'James', 'Emily', 'Michael',\n",
    "    'Matthew', 'Laura', 'Kevin', 'Jonas'],\n",
    "    'score': [12.5, 9, 16.5, np.nan, 9, 20, 14.5, np.nan, 8, 19],\n",
    "    'attempts'- [1, 3, 2, 3, 2, 3, 1, 1, 2, 1],\n",
    "    'qualify'- ['yes', 'no', ' yes ', ' no ', ' no ', ' yes ', ' yes ', ' no ', ' no ', ' yes '] }\n",
    "    labels = ['a', 'b', 'c', 'd', 'e', 'f', 'g', 'h', 'i', 'j']\n",
    "    Expected OutputMean score for each different student in data frame:\n",
    "    13.5625"
   ]
  },
  {
   "cell_type": "code",
   "execution_count": null,
   "metadata": {},
   "outputs": [],
   "source": []
  },
  {
   "cell_type": "markdown",
   "metadata": {},
   "source": [
    "Q10. Write the Pandas program to rename columns of a given\n",
    "DataFrame ?\n",
    "\n",
    "    Sample dataOriginal data frame\n",
    "    col1 col2 col3\n",
    "    0 1 4 7\n",
    "    1 2 5 8\n",
    "    2 3 6 9\n",
    "    New data frame after renaming columns:\n",
    "    Column1 Column2 Column3\n",
    "    0 1 4 7\n",
    "    1 2 5 8\n",
    "    2 3 6 9"
   ]
  },
  {
   "cell_type": "code",
   "execution_count": null,
   "metadata": {},
   "outputs": [],
   "source": []
  },
  {
   "cell_type": "markdown",
   "metadata": {},
   "source": [
    "Q11. Write a pandas program to count city-wise number of people from\n",
    "a given of data set (city, name of the person)?\n",
    "\n",
    "    Sample data-\n",
    "    city Number of people\n",
    "    0 California 4\n",
    "    1 Georgia 2\n",
    "    2 Los Angeles 4"
   ]
  },
  {
   "cell_type": "code",
   "execution_count": null,
   "metadata": {},
   "outputs": [],
   "source": []
  },
  {
   "cell_type": "markdown",
   "metadata": {},
   "source": [
    "Q12. Write a pandas program to widen output display to see more\n",
    "columns?\n",
    "    \n",
    "    Sample dataOriginal data frame\n",
    "    col1 col2 col3\n",
    "    0 1 4 7\n",
    "    1 4 5 8\n",
    "    2 3 6 9\n",
    "    3 4 7 0\n",
    "    4 5 8 1"
   ]
  },
  {
   "cell_type": "code",
   "execution_count": null,
   "metadata": {},
   "outputs": [],
   "source": []
  },
  {
   "cell_type": "markdown",
   "metadata": {},
   "source": [
    "Q13. Write a pandas program to convert the data frame column type\n",
    "from string to DateTime?\n",
    "    \n",
    "    Sample dataString Date0 3/11/2000\n",
    "    1 3/12/2000\n",
    "    2 3/13/2000\n",
    "    dtype- object\n",
    "    Original DataFrame (string to datetime)-\n",
    "    0\n",
    "    0 2000-03-11\n",
    "    1 2000-03-12\n",
    "    2 2000-03-13"
   ]
  },
  {
   "cell_type": "code",
   "execution_count": null,
   "metadata": {},
   "outputs": [],
   "source": []
  },
  {
   "cell_type": "markdown",
   "metadata": {},
   "source": [
    "Q14. Write a pandas program to append the data to an empty\n",
    "DataFrame?\n",
    "\n",
    "    Sample dataOriginal DataFrame- After appending some data: col1 col2 0 0 0 1 1 1 2 2 2"
   ]
  },
  {
   "cell_type": "code",
   "execution_count": 5,
   "metadata": {},
   "outputs": [
    {
     "name": "stdout",
     "output_type": "stream",
     "text": [
      "After appending data: \n",
      "   col1  col2\n",
      "0     0     0\n",
      "1     1     1\n",
      "2     2     2\n"
     ]
    }
   ],
   "source": [
    "import pandas as pd\n",
    "df =pd.DataFrame()\n",
    "data = pd.DataFrame({'col1': range(3),'col2':range(3)})\n",
    "print('After appending data: ')\n",
    "df = df.append(data)\n",
    "print(df)"
   ]
  },
  {
   "cell_type": "markdown",
   "metadata": {},
   "source": [
    "Q15. Write a pandas program to count the number of columns of a\n",
    "DataFrame?\n",
    "\n",
    "    Sample OutputOriginal DataFrame\n",
    "    col1 col2 col3\n",
    "    0 1 4 7\n",
    "    1 2 5 8\n",
    "    2 3 6 12\n",
    "    3 4 9 1\n",
    "    4 7 5 11\n",
    "    Number of columns- 3"
   ]
  },
  {
   "cell_type": "code",
   "execution_count": 6,
   "metadata": {},
   "outputs": [
    {
     "name": "stdout",
     "output_type": "stream",
     "text": [
      "Original dataframe\n",
      "   col1  col2  col3\n",
      "0     1     4     7\n",
      "1     2     5     8\n",
      "2     3     6    12\n",
      "3     4     9     1\n",
      "4     7     5    11\n",
      "\n",
      "Number of columns: \n",
      "3\n"
     ]
    }
   ],
   "source": [
    "import pandas as pd \n",
    "d = {'col1':[1,2,3,4,7],'col2':[4,5,6,9,5],'col3':[7,8,12,1,11]}\n",
    "df = pd.DataFrame(data=d)\n",
    "print('Original dataframe')\n",
    "print(df)\n",
    "print('\\nNumber of columns: ')\n",
    "print(len(df.columns))"
   ]
  },
  {
   "cell_type": "markdown",
   "metadata": {},
   "source": [
    "Q16. Write a Pandas program to remove the last n rows of a given\n",
    "DataFrame ?\n",
    "\n",
    "    Sample Output:\n",
    "    Original DataFrame\n",
    "    col1 col2 col3\n",
    "    0 1 4 7\n",
    "    1 2 5 5\n",
    "    2 3 6 8\n",
    "    3 4 9 12\n",
    "    4 7 5 1\n",
    "    5 11 0 11\n",
    "    After removing last 3 rows of the said DataFramecol1 col2 col3\n",
    "    0 1 4 7\n",
    "    1 2 5 5\n",
    "    2 3 6 8\n",
    "    \n",
    "     Link for Datasets\n",
    "     (https://drive.google.com/drive/folders/105ftuIwN9kqyPNEEm3E6IM7LqywjyvJa?usp=sharing)"
   ]
  },
  {
   "cell_type": "code",
   "execution_count": null,
   "metadata": {},
   "outputs": [],
   "source": [
    "import pandas as pd\n",
    "d = {'col1': [1, 2, 3, 4, 7, 11], 'col2': [4, 5, 6, 9, 5, 0], 'col3': [7, 5, 8, 12, 1,11]}\n",
    "df = pd.DataFrame(data=d)\n",
    "print(\"Original DataFrame\")\n",
    "print(df)\n",
    "print(\"\\nAfter removing last 3 rows of the said DataFrame:\")\n",
    "df1 = df.iloc[:3]\n",
    "print(df1)\n"
   ]
  },
  {
   "cell_type": "markdown",
   "metadata": {},
   "source": [
    "Q17. Write a Pandas program to import excel data (coalpublic2013.xlsx\n",
    ") into a Pandas data frame."
   ]
  },
  {
   "cell_type": "code",
   "execution_count": null,
   "metadata": {},
   "outputs": [],
   "source": []
  },
  {
   "cell_type": "markdown",
   "metadata": {},
   "source": [
    "Q18. Write a Pandas program to import excel data (coalpublic2013.xlsx\n",
    ") into a data frame and find details where \"Mine Name\" starts with\n",
    "\"P.\n"
   ]
  },
  {
   "cell_type": "code",
   "execution_count": null,
   "metadata": {},
   "outputs": [],
   "source": []
  },
  {
   "cell_type": "markdown",
   "metadata": {},
   "source": [
    "Q19. Write a Pandas program to import excel data (employee.xlsx )\n",
    "into a Pandas dataframe and find the list of employees where\n",
    "hire_date> 01-01-07.\n"
   ]
  },
  {
   "cell_type": "code",
   "execution_count": null,
   "metadata": {},
   "outputs": [],
   "source": []
  },
  {
   "cell_type": "markdown",
   "metadata": {},
   "source": [
    "Q20. Write a Pandas program to import excel data (employee.xlsx )\n",
    "into a Pandas dataframe and find a list of the employees of a specified\n",
    "year"
   ]
  },
  {
   "cell_type": "code",
   "execution_count": null,
   "metadata": {},
   "outputs": [],
   "source": []
  },
  {
   "cell_type": "markdown",
   "metadata": {},
   "source": [
    "## Great Job!"
   ]
  }
 ],
 "metadata": {
  "kernelspec": {
   "display_name": "Python 3",
   "language": "python",
   "name": "python3"
  },
  "language_info": {
   "codemirror_mode": {
    "name": "ipython",
    "version": 3
   },
   "file_extension": ".py",
   "mimetype": "text/x-python",
   "name": "python",
   "nbconvert_exporter": "python",
   "pygments_lexer": "ipython3",
   "version": "3.7.4"
  }
 },
 "nbformat": 4,
 "nbformat_minor": 2
}
