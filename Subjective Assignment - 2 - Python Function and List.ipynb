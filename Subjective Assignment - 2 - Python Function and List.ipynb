{
 "cells": [
  {
   "cell_type": "markdown",
   "metadata": {},
   "source": [
    "# Assignments"
   ]
  },
  {
   "cell_type": "markdown",
   "metadata": {},
   "source": [
    "Q1. Write the Python function to get a string made of 4 copies of the last\n",
    "two characters of the specified string (length must be at least 2).\n",
    "\n",
    "    Sample function and result :\n",
    "    insert-end ('Python') -> abababab\n",
    "    insert-end('Exercises') -> jkjkjkjk"
   ]
  },
  {
   "cell_type": "code",
   "execution_count": null,
   "metadata": {},
   "outputs": [],
   "source": []
  },
  {
   "cell_type": "markdown",
   "metadata": {},
   "source": [
    "Q2. Write the python function to get a string made of its first three\n",
    "characters of a specified string. If the length of the string is less than 3\n",
    "then return the original string.\n",
    "    \n",
    "    Sample function and result :\n",
    "    first-three('ipy') -> ipy\n",
    "    first-three('python') -> pyt"
   ]
  },
  {
   "cell_type": "code",
   "execution_count": null,
   "metadata": {},
   "outputs": [],
   "source": []
  },
  {
   "cell_type": "markdown",
   "metadata": {},
   "source": [
    "Q3. Write the Python program to find smallest window that contains all\n",
    "characters of the given string?\n",
    "\n",
    "    Original Strings:\n",
    "    asdaewsqgtwwsa\n",
    "    Smallest window that contains all characters of the said string:\n",
    "    Daewsqgt"
   ]
  },
  {
   "cell_type": "code",
   "execution_count": 1,
   "metadata": {},
   "outputs": [
    {
     "name": "stdout",
     "output_type": "stream",
     "text": [
      "Original Strings:\n",
      " PRWSOERIUSFK \n",
      " OSU\n",
      "Minimum window:\n",
      "OERIUS\n"
     ]
    }
   ],
   "source": [
    "import collections\n",
    "def min_window(str1, str2):\n",
    "    result_char, missing_char = collections.Counter(str2), len(str2)\n",
    "    i = p = q = 0\n",
    "    for j, c in enumerate(str1, 1):\n",
    "        missing_char -= result_char[c] > 0\n",
    "        result_char[c] -= 1\n",
    "        if not missing_char:\n",
    "            while i < q and result_char[str1[i]] < 0:\n",
    "                result_char[str1[i]] += 1\n",
    "                i += 1\n",
    "            if not q or j - i <= q - p:\n",
    "                p, q = i, j\n",
    "    return str1[p:q]\n",
    "           \n",
    "str1 = \"PRWSOERIUSFK\"\n",
    "str2 = \"OSU\"\n",
    "print(\"Original Strings:\\n\",str1,\"\\n\",str2)\n",
    "print(\"Minimum window:\")\n",
    "print(min_window(str1,str2))\n",
    " "
   ]
  },
  {
   "cell_type": "markdown",
   "metadata": {},
   "source": [
    "Q4. Write the Python program to count number of substrings from a\n",
    "given string of lowercase alphabets with exactly k distinct (given)\n",
    "characters?\n",
    "\n",
    "    Input a string (lowercase alphabets): wolf\n",
    "    Input k: 4\n",
    "    Number of substrings with exactly 4 distinct characters: 1"
   ]
  },
  {
   "cell_type": "code",
   "execution_count": 1,
   "metadata": {},
   "outputs": [
    {
     "name": "stdout",
     "output_type": "stream",
     "text": [
      "Total substrings with exactly 3 distinct characters : 8\n"
     ]
    }
   ],
   "source": [
    "# Function to count number of substrings  \n",
    "# with exactly k unique characters  \n",
    "def countkDist(str1, k): \n",
    "    n = len(str1) \n",
    "      \n",
    "    # Initialize result \n",
    "    res = 0\n",
    "  \n",
    "    # To store count of characters from  \n",
    "    # 'a' to 'z'  \n",
    "    cnt = [0] * 27\n",
    "  \n",
    "    # Consider all substrings beginning  \n",
    "    # with str[i]  \n",
    "    for i in range(0, n): \n",
    "        dist_count = 0\n",
    "  \n",
    "        # Initializing array with 0  \n",
    "        cnt = [0] * 27\n",
    "  \n",
    "        # Consider all substrings between str[i..j]  \n",
    "        for j in range(i, n): \n",
    "              \n",
    "            # If this is a new character for this  \n",
    "            # substring, increment dist_count.  \n",
    "            if(cnt[ord(str1[j]) - 97] == 0): \n",
    "                dist_count += 1\n",
    "  \n",
    "            # Increment count of current character \n",
    "            cnt[ord(str1[j]) - 97] += 1\n",
    "  \n",
    "            # If distinct character count becomes k,  \n",
    "            # then increment result. \n",
    "            if(dist_count == k): \n",
    "                res += 1\n",
    "            if(dist_count > k): \n",
    "                break\n",
    "  \n",
    "    return res      \n",
    "  \n",
    "# Driver Code \n",
    "if __name__ == \"__main__\": \n",
    "    str1 = \"abcbaa\"\n",
    "    k = 3\n",
    "    print(\"Total substrings with exactly\", k,  \n",
    "           \"distinct characters : \", end = \"\") \n",
    "    print(countkDist(str1, k)) "
   ]
  },
  {
   "cell_type": "markdown",
   "metadata": {},
   "source": [
    "Q5. Write the Python program to count number of non-empty\n",
    "substrings of the given string?\n",
    "\n",
    "    Input a string: w3resource\n",
    "    Number of substrings:\n",
    "    55"
   ]
  },
  {
   "cell_type": "code",
   "execution_count": 2,
   "metadata": {},
   "outputs": [
    {
     "name": "stdout",
     "output_type": "stream",
     "text": [
      "a\n",
      "ab\n",
      "abc\n",
      "abcd\n",
      "b\n",
      "bc\n",
      "bcd\n",
      "c\n",
      "cd\n",
      "d\n"
     ]
    }
   ],
   "source": [
    "# Function to print all sub strings \n",
    "def subString(s, n): \n",
    "\t# Pick starting point in outer loop \n",
    "\t# and lengths of different strings for \n",
    "\t# a given starting point \n",
    "\tfor i in range(n): \n",
    "\t\tfor len in range(i+1,n+1): \n",
    "\t\t\tprint(s[i: len]); \n",
    "\n",
    "# Driver program to test above function \n",
    "s = \"abcd\"; \n",
    "subString(s,len(s)); "
   ]
  },
  {
   "cell_type": "markdown",
   "metadata": {},
   "source": [
    "Q6. Write the Python program to count the number of strings where the\n",
    "string length is 2 or more, and first and last character are same\n",
    "from a given list of strings.\n",
    "\n",
    "    Sample List : ['abc', 'xyz', 'wxw', '1331']\n",
    "    Expected Result: 2"
   ]
  },
  {
   "cell_type": "code",
   "execution_count": 1,
   "metadata": {},
   "outputs": [
    {
     "name": "stdout",
     "output_type": "stream",
     "text": [
      "2\n"
     ]
    }
   ],
   "source": [
    "# COunt string with equal end ----\n",
    "\n",
    "def  count_string_equlend (s):\n",
    "\n",
    "\tctr = 0\n",
    "\n",
    "\tfor i in s:\n",
    "\t\tif len(i) > 1 and i [0] == i[-1]:\n",
    "\n",
    "\t\t  ctr += 1\n",
    "\n",
    "\t\t\n",
    "\t\n",
    "\treturn ctr\n",
    "\n",
    "s=['abc','wxw','1331','asw']\n",
    "\n",
    "print(count_string_equlend(s))"
   ]
  },
  {
   "cell_type": "markdown",
   "metadata": {},
   "source": [
    "Q7. Write the Python program to get a list, sorted in increasing order by\n",
    "the last element in each tuple from the given list of non-empty\n",
    "tuples?\n",
    "\n",
    "    Sample List - [ (2, 5), (1, 2), (4, 4), (2, 3), (2, 1) ]\n",
    "    Expected Result - [ (2, 1), (1, 2), (2, 3), (4, 4), (2, 5) ]"
   ]
  },
  {
   "cell_type": "code",
   "execution_count": null,
   "metadata": {},
   "outputs": [],
   "source": []
  },
  {
   "cell_type": "markdown",
   "metadata": {},
   "source": [
    "Q8. Write the Python program to remove duplicates from a list?"
   ]
  },
  {
   "cell_type": "code",
   "execution_count": 1,
   "metadata": {},
   "outputs": [
    {
     "name": "stdout",
     "output_type": "stream",
     "text": [
      "Enter the numm of eliments in list : 10\n",
      "1 enter strings\n",
      "10\n",
      "2 enter strings\n",
      "20\n",
      "3 enter strings\n",
      "30\n",
      "4 enter strings\n",
      "6\n",
      "5 enter strings\n",
      "8\n",
      "6 enter strings\n",
      "50.\n",
      "7 enter strings\n",
      "30\n",
      "8 enter strings\n",
      "7\n",
      "9 enter strings\n",
      "30\n",
      "10 enter strings\n",
      "5\n",
      "50.\n",
      "20\n",
      "8\n",
      "5\n",
      "10\n",
      "7\n",
      "30\n",
      "6\n"
     ]
    }
   ],
   "source": [
    "names=[]\n",
    "n=int(input(\"Enter the numm of eliments in list : \"))\n",
    "for x in range (0,n):\n",
    "\tprint(x+1, \"enter strings\")\n",
    "\tnames.append (input())\n",
    "\t\n",
    "s=set(names)\n",
    "names=list(s)\n",
    "for i in names: \n",
    "\tprint(i)"
   ]
  },
  {
   "cell_type": "markdown",
   "metadata": {},
   "source": [
    "Q9. Write the Python program to find the list of words that are longer\n",
    "than n from a given list of words?"
   ]
  },
  {
   "cell_type": "code",
   "execution_count": null,
   "metadata": {},
   "outputs": [],
   "source": []
  },
  {
   "cell_type": "markdown",
   "metadata": {},
   "source": [
    "Q10. Write the Python program to print a specified list after removing the\n",
    "0th, 4th, and 5th elements?\n",
    "    \n",
    "    Sample List - ['Red', 'Green', 'White', 'Black', 'Pink', 'Yellow']\n",
    "    Expected Output - ['Green', 'White', 'Black']"
   ]
  },
  {
   "cell_type": "code",
   "execution_count": 1,
   "metadata": {},
   "outputs": [
    {
     "name": "stdout",
     "output_type": "stream",
     "text": [
      "['Green', 'White', 'Black']\n"
     ]
    }
   ],
   "source": [
    "list1=['Red', 'Green', 'White', 'Black', 'Pink', 'Yellow']\n",
    "print(list1[1:4:])"
   ]
  },
  {
   "cell_type": "markdown",
   "metadata": {},
   "source": [
    "Q11. Write the Python program to generate all permutations of a list in\n",
    "Python?"
   ]
  },
  {
   "cell_type": "code",
   "execution_count": 1,
   "metadata": {},
   "outputs": [
    {
     "name": "stdout",
     "output_type": "stream",
     "text": [
      "[(1, 2, 3), (1, 3, 2), (2, 1, 3), (2, 3, 1), (3, 1, 2), (3, 2, 1)]\n"
     ]
    }
   ],
   "source": [
    "import itertools\n",
    "print(list(itertools.permutations([1,2,3])))"
   ]
  },
  {
   "cell_type": "markdown",
   "metadata": {},
   "source": [
    "Q12. Write the Python program to convert a pair of values into a sorted\n",
    "unique array?\n",
    " \n",
    "    Original List- [ (1, 2), (3, 4), (1, 2), (5, 6), (7, 8), (1, 2), (3, 4), (3, 4), (7, 8), (9, 10) ]\n",
    "    Sorted Unique Data- [ 1, 2, 3, 4, 5, 6, 7, 8, 9, 10 ] \n"
   ]
  },
  {
   "cell_type": "code",
   "execution_count": 3,
   "metadata": {},
   "outputs": [
    {
     "name": "stdout",
     "output_type": "stream",
     "text": [
      "Original List:  [(1, 2), (3, 4), (1, 2), (5, 6), (7, 8), (1, 2), (3, 4), (3, 4), (7, 8), (9, 10)]\n",
      "stored Unique data:  [1, 2, 3, 4, 5, 6, 7, 8, 9, 10]\n"
     ]
    }
   ],
   "source": [
    "L= [ (1, 2), (3, 4), (1, 2), (5, 6), (7, 8), (1, 2), (3, 4), (3, 4), (7, 8), (9, 10) ]\n",
    "print(\"Original List: \",L)\n",
    "\n",
    "#UNION()function in python\n",
    "\n",
    "print(\"stored Unique data: \" ,sorted(set().union(*L)))"
   ]
  },
  {
   "cell_type": "markdown",
   "metadata": {},
   "source": [
    "## Great job!"
   ]
  }
 ],
 "metadata": {
  "kernelspec": {
   "display_name": "Python 3",
   "language": "python",
   "name": "python3"
  },
  "language_info": {
   "codemirror_mode": {
    "name": "ipython",
    "version": 3
   },
   "file_extension": ".py",
   "mimetype": "text/x-python",
   "name": "python",
   "nbconvert_exporter": "python",
   "pygments_lexer": "ipython3",
   "version": "3.7.4"
  }
 },
 "nbformat": 4,
 "nbformat_minor": 2
}
